{
 "cells": [
  {
   "cell_type": "code",
   "execution_count": 1,
   "metadata": {},
   "outputs": [],
   "source": [
    "import sys,os\n",
    "sys.path.append(os.path.abspath(\"..\"))"
   ]
  },
  {
   "cell_type": "code",
   "execution_count": 2,
   "metadata": {},
   "outputs": [],
   "source": [
    "from qiskit import QuantumCircuit\n",
    "from qiskit.quantum_info import Operator\n",
    "from qiskit import QuantumRegister\n",
    "from qiskit import ClassicalRegister\n",
    "from qiskit.quantum_info import Statevector\n",
    "from qiskit import transpile \n",
    "from qiskit_aer import AerSimulator\n",
    "from qiskit.visualization import plot_histogram, plot_bloch_vector,plot_bloch_multivector\n",
    "from qiskit.quantum_info import DensityMatrix, partial_trace, negativity\n",
    "\n",
    "\n",
    "import matplotlib.pyplot as plt"
   ]
  },
  {
   "cell_type": "code",
   "execution_count": 3,
   "metadata": {},
   "outputs": [],
   "source": [
    "import seaborn as sns\n",
    "sns.set(style=\"darkgrid\")"
   ]
  },
  {
   "cell_type": "code",
   "execution_count": 4,
   "metadata": {},
   "outputs": [],
   "source": [
    "from QuantumWalkModule.QuantumComputer import *"
   ]
  },
  {
   "cell_type": "markdown",
   "metadata": {},
   "source": [
    "<h1>Quantum Random Walk on quantum computer</h1>"
   ]
  },
  {
   "cell_type": "markdown",
   "metadata": {},
   "source": [
    "<h2>Testing shifts</h2>"
   ]
  },
  {
   "cell_type": "code",
   "execution_count": 5,
   "metadata": {},
   "outputs": [],
   "source": [
    "_0,_1 = [1,0],[0,1]\n",
    "\n",
    "def get_res(init_tab,**kwargs):\n",
    "    mode = kwargs.get(\"mode\",\"left\")\n",
    "    shift = Shift(4)\n",
    "    qc2 = shift.get_op(mode = mode)\n",
    "    start = QuantumCircuit(4)\n",
    "    for i in range(len(init_tab)):\n",
    "        start.initialize(init_tab[i],i)\n",
    "    start.barrier()\n",
    "    qc2 = start.compose(qc2)\n",
    "    qc2.barrier()\n",
    "    cr = ClassicalRegister(4,\"c\")\n",
    "    qc2.add_register(cr)\n",
    "    for i in range(4):\n",
    "        qc2.measure(i,cr[len(cr) - 1 - i])\n",
    "    sim = AerSimulator()\n",
    "    qc_com = transpile(qc2,sim)\n",
    "    res = sim.run(qc_com).result()\n",
    "    res_ans = res.get_counts()\n",
    "    return res_ans"
   ]
  },
  {
   "cell_type": "code",
   "execution_count": 6,
   "metadata": {},
   "outputs": [
    {
     "name": "stdout",
     "output_type": "stream",
     "text": [
      "for initial state: 0000, result is: {'1111': 1024}\n",
      "for initial state: 0001, result is: {'0000': 1024}\n",
      "for initial state: 0010, result is: {'0001': 1024}\n",
      "for initial state: 0011, result is: {'0010': 1024}\n",
      "for initial state: 0100, result is: {'0011': 1024}\n",
      "for initial state: 0101, result is: {'0100': 1024}\n",
      "for initial state: 0110, result is: {'0101': 1024}\n",
      "for initial state: 0111, result is: {'0110': 1024}\n",
      "for initial state: 1000, result is: {'0111': 1024}\n",
      "for initial state: 1001, result is: {'1000': 1024}\n",
      "for initial state: 1010, result is: {'1001': 1024}\n",
      "for initial state: 1011, result is: {'1010': 1024}\n",
      "for initial state: 1100, result is: {'1011': 1024}\n",
      "for initial state: 1101, result is: {'1100': 1024}\n",
      "for initial state: 1110, result is: {'1101': 1024}\n",
      "for initial state: 1111, result is: {'1110': 1024}\n"
     ]
    }
   ],
   "source": [
    "for i in range(16):\n",
    "    str_init = Shift.DecToBin(i,4)\n",
    "    init_tab = [_0 if str_init[i] == \"0\" else _1 for i in range(len(str_init))]\n",
    "    print(f\"for initial state: {str_init}, result is: {get_res(init_tab)}\")"
   ]
  },
  {
   "cell_type": "code",
   "execution_count": 8,
   "metadata": {},
   "outputs": [
    {
     "name": "stdout",
     "output_type": "stream",
     "text": [
      "for initial state: 0000, result is: {'1111': 1024}\n",
      "for initial state: 0001, result is: {'0000': 1024}\n",
      "for initial state: 0010, result is: {'0001': 1024}\n",
      "for initial state: 0011, result is: {'0010': 1024}\n",
      "for initial state: 0100, result is: {'0011': 1024}\n",
      "for initial state: 0101, result is: {'0100': 1024}\n",
      "for initial state: 0110, result is: {'0101': 1024}\n",
      "for initial state: 0111, result is: {'0110': 1024}\n",
      "for initial state: 1000, result is: {'0111': 1024}\n",
      "for initial state: 1001, result is: {'1000': 1024}\n",
      "for initial state: 1010, result is: {'1001': 1024}\n",
      "for initial state: 1011, result is: {'1010': 1024}\n",
      "for initial state: 1100, result is: {'1011': 1024}\n",
      "for initial state: 1101, result is: {'1100': 1024}\n",
      "for initial state: 1110, result is: {'1101': 1024}\n",
      "for initial state: 1111, result is: {'1110': 1024}\n"
     ]
    }
   ],
   "source": [
    "for i in range(16):\n",
    "    str_init = Shift.DecToBin(i,4)\n",
    "    init_tab = [_0 if str_init[i] == \"0\" else _1 for i in range(len(str_init))]\n",
    "    print(f\"for initial state: {str_init}, result is: {get_res(init_tab)}\")"
   ]
  },
  {
   "cell_type": "markdown",
   "metadata": {},
   "source": [
    "<h2>Testing step operator</h2>"
   ]
  },
  {
   "cell_type": "code",
   "execution_count": 9,
   "metadata": {},
   "outputs": [],
   "source": [
    "theta = 0\n",
    "qubits = 4\n",
    "\n",
    "model = QuantumWalk(qubits, theta = theta)\n"
   ]
  },
  {
   "cell_type": "code",
   "execution_count": 10,
   "metadata": {},
   "outputs": [
    {
     "name": "stdout",
     "output_type": "stream",
     "text": [
      "for initial state: 0000, result is: {'1111': 1024}\n",
      "for initial state: 0001, result is: {'0000': 1024}\n",
      "for initial state: 0010, result is: {'0001': 1024}\n",
      "for initial state: 0011, result is: {'0010': 1024}\n",
      "for initial state: 0100, result is: {'0011': 1024}\n",
      "for initial state: 0101, result is: {'0100': 1024}\n",
      "for initial state: 0110, result is: {'0101': 1024}\n",
      "for initial state: 0111, result is: {'0110': 1024}\n",
      "for initial state: 1000, result is: {'0111': 1024}\n",
      "for initial state: 1001, result is: {'1000': 1024}\n",
      "for initial state: 1010, result is: {'1001': 1024}\n",
      "for initial state: 1011, result is: {'1010': 1024}\n",
      "for initial state: 1100, result is: {'1011': 1024}\n",
      "for initial state: 1101, result is: {'1100': 1024}\n",
      "for initial state: 1110, result is: {'1101': 1024}\n",
      "for initial state: 1111, result is: {'1110': 1024}\n"
     ]
    }
   ],
   "source": [
    "for i in range(16):\n",
    "    str_ = Shift.DecToBin(i,4)\n",
    "    init_state_tab = [(\"0\"+ str_,1)]\n",
    "    init_state = op.get_initial_st(*init_state_tab)\n",
    "    res,circ = model.run(init_state,steps = 1)\n",
    "    print(f\"for initial state: {str_}, result is: {res}\")"
   ]
  },
  {
   "cell_type": "code",
   "execution_count": 11,
   "metadata": {},
   "outputs": [
    {
     "name": "stdout",
     "output_type": "stream",
     "text": [
      "for initial state: 0000, result is: {'0001': 1024}\n",
      "for initial state: 0001, result is: {'0010': 1024}\n",
      "for initial state: 0010, result is: {'0011': 1024}\n",
      "for initial state: 0011, result is: {'0100': 1024}\n",
      "for initial state: 0100, result is: {'0101': 1024}\n",
      "for initial state: 0101, result is: {'0110': 1024}\n",
      "for initial state: 0110, result is: {'0111': 1024}\n",
      "for initial state: 0111, result is: {'1000': 1024}\n",
      "for initial state: 1000, result is: {'1001': 1024}\n",
      "for initial state: 1001, result is: {'1010': 1024}\n",
      "for initial state: 1010, result is: {'1011': 1024}\n",
      "for initial state: 1011, result is: {'1100': 1024}\n",
      "for initial state: 1100, result is: {'1101': 1024}\n",
      "for initial state: 1101, result is: {'1110': 1024}\n",
      "for initial state: 1110, result is: {'1111': 1024}\n",
      "for initial state: 1111, result is: {'0000': 1024}\n"
     ]
    }
   ],
   "source": [
    "for i in range(16):\n",
    "    str_ = Shift.DecToBin(i,4)\n",
    "    init_state_tab = [(\"1\"+ str_,1)]\n",
    "    init_state = op.get_initial_st(*init_state_tab)\n",
    "    res,circ = model.run(init_state,steps = 1)\n",
    "    print(f\"for initial state: {str_}, result is: {res}\")"
   ]
  },
  {
   "cell_type": "code",
   "execution_count": 12,
   "metadata": {},
   "outputs": [
    {
     "data": {
      "text/html": [
       "<pre style=\"word-wrap: normal;white-space: pre;background: #fff0;line-height: 1.1;font-family: &quot;Courier New&quot;,Courier,monospace\">      »\n",
       "coin: »\n",
       "      »\n",
       " q_0: »\n",
       "      »\n",
       " q_1: »\n",
       "      »\n",
       " q_2: »\n",
       "      »\n",
       " q_3: »\n",
       "      »\n",
       " c: 4/»\n",
       "      »\n",
       "«      ┌──────────────────────────────────────────────────────────────────────────────┐»\n",
       "«coin: ┤0                                                                             ├»\n",
       "«      │                                                                              │»\n",
       "« q_0: ┤1                                                                             ├»\n",
       "«      │                                                                              │»\n",
       "« q_1: ┤2 Initialize(0,0,0,0,0,0,0,0,0,0,0,0,0,0,0,0,0,0,0,0,0,0,0,0,0,0,0,0,0,0,0,1) ├»\n",
       "«      │                                                                              │»\n",
       "« q_2: ┤3                                                                             ├»\n",
       "«      │                                                                              │»\n",
       "« q_3: ┤4                                                                             ├»\n",
       "«      └──────────────────────────────────────────────────────────────────────────────┘»\n",
       "« c: 4/════════════════════════════════════════════════════════════════════════════════»\n",
       "«                                                                                      »\n",
       "«       ░ ┌───────┐                 ┌───┐                    ┌───┐ ░          »\n",
       "«coin: ─░─┤ Ry(0) ├────────■────────┤ X ├─────────■──────────┤ X ├─░──────────»\n",
       "«       ░ └───────┘┌───────┴───────┐└───┘┌────────┴─────────┐└───┘ ░ ┌─┐      »\n",
       "« q_0: ─░──────────┤0              ├─────┤0                 ├──────░─┤M├──────»\n",
       "«       ░          │               │     │                  │      ░ └╥┘┌─┐   »\n",
       "« q_1: ─░──────────┤1              ├─────┤1                 ├──────░──╫─┤M├───»\n",
       "«       ░          │  circuit-7554 │     │  circuit-7668_dg │      ░  ║ └╥┘┌─┐»\n",
       "« q_2: ─░──────────┤2              ├─────┤2                 ├──────░──╫──╫─┤M├»\n",
       "«       ░          │               │     │                  │      ░  ║  ║ └╥┘»\n",
       "« q_3: ─░──────────┤3              ├─────┤3                 ├──────░──╫──╫──╫─»\n",
       "«       ░          └───────────────┘     └──────────────────┘      ░  ║  ║  ║ »\n",
       "« c: 4/═══════════════════════════════════════════════════════════════╩══╩══╩═»\n",
       "«                                                                     3  2  1 »\n",
       "«         \n",
       "«coin: ───\n",
       "«         \n",
       "« q_0: ───\n",
       "«         \n",
       "« q_1: ───\n",
       "«         \n",
       "« q_2: ───\n",
       "«      ┌─┐\n",
       "« q_3: ┤M├\n",
       "«      └╥┘\n",
       "« c: 4/═╩═\n",
       "«       0 </pre>"
      ],
      "text/plain": [
       "      »\n",
       "coin: »\n",
       "      »\n",
       " q_0: »\n",
       "      »\n",
       " q_1: »\n",
       "      »\n",
       " q_2: »\n",
       "      »\n",
       " q_3: »\n",
       "      »\n",
       " c: 4/»\n",
       "      »\n",
       "«      ┌──────────────────────────────────────────────────────────────────────────────┐»\n",
       "«coin: ┤0                                                                             ├»\n",
       "«      │                                                                              │»\n",
       "« q_0: ┤1                                                                             ├»\n",
       "«      │                                                                              │»\n",
       "« q_1: ┤2 Initialize(0,0,0,0,0,0,0,0,0,0,0,0,0,0,0,0,0,0,0,0,0,0,0,0,0,0,0,0,0,0,0,1) ├»\n",
       "«      │                                                                              │»\n",
       "« q_2: ┤3                                                                             ├»\n",
       "«      │                                                                              │»\n",
       "« q_3: ┤4                                                                             ├»\n",
       "«      └──────────────────────────────────────────────────────────────────────────────┘»\n",
       "« c: 4/════════════════════════════════════════════════════════════════════════════════»\n",
       "«                                                                                      »\n",
       "«       ░ ┌───────┐                 ┌───┐                    ┌───┐ ░          »\n",
       "«coin: ─░─┤ Ry(0) ├────────■────────┤ X ├─────────■──────────┤ X ├─░──────────»\n",
       "«       ░ └───────┘┌───────┴───────┐└───┘┌────────┴─────────┐└───┘ ░ ┌─┐      »\n",
       "« q_0: ─░──────────┤0              ├─────┤0                 ├──────░─┤M├──────»\n",
       "«       ░          │               │     │                  │      ░ └╥┘┌─┐   »\n",
       "« q_1: ─░──────────┤1              ├─────┤1                 ├──────░──╫─┤M├───»\n",
       "«       ░          │  circuit-7554 │     │  circuit-7668_dg │      ░  ║ └╥┘┌─┐»\n",
       "« q_2: ─░──────────┤2              ├─────┤2                 ├──────░──╫──╫─┤M├»\n",
       "«       ░          │               │     │                  │      ░  ║  ║ └╥┘»\n",
       "« q_3: ─░──────────┤3              ├─────┤3                 ├──────░──╫──╫──╫─»\n",
       "«       ░          └───────────────┘     └──────────────────┘      ░  ║  ║  ║ »\n",
       "« c: 4/═══════════════════════════════════════════════════════════════╩══╩══╩═»\n",
       "«                                                                     3  2  1 »\n",
       "«         \n",
       "«coin: ───\n",
       "«         \n",
       "« q_0: ───\n",
       "«         \n",
       "« q_1: ───\n",
       "«         \n",
       "« q_2: ───\n",
       "«      ┌─┐\n",
       "« q_3: ┤M├\n",
       "«      └╥┘\n",
       "« c: 4/═╩═\n",
       "«       0 "
      ]
     },
     "execution_count": 12,
     "metadata": {},
     "output_type": "execute_result"
    }
   ],
   "source": [
    "circ.draw()"
   ]
  },
  {
   "cell_type": "markdown",
   "metadata": {},
   "source": [
    "<h1>Quantum Walk</h1>"
   ]
  },
  {
   "cell_type": "code",
   "execution_count": 13,
   "metadata": {},
   "outputs": [],
   "source": [
    "init_state_tab = [(\"110000\",1),(\"010000\",1j)]\n",
    "init_state = op.get_initial_st(*init_state_tab)"
   ]
  },
  {
   "cell_type": "code",
   "execution_count": 14,
   "metadata": {},
   "outputs": [],
   "source": [
    "theta = np.pi/4\n",
    "qubits = 5\n",
    "\n",
    "model = QuantumWalk(qubits, theta = theta)"
   ]
  },
  {
   "cell_type": "code",
   "execution_count": 16,
   "metadata": {},
   "outputs": [
    {
     "data": {
      "text/plain": [
       "<Figure size 640x480 with 0 Axes>"
      ]
     },
     "metadata": {},
     "output_type": "display_data"
    }
   ],
   "source": [
    "fig = plt.figure()\n",
    "\n",
    "res,circ = model.run(init_state,steps = 10)\n",
    "for i in range(2**qubits):\n",
    "    str_bin = Shift.DecToBin(i,qubits)\n",
    "    if str_bin not in res.keys():\n",
    "        res[str_bin] = 0\n",
    "plot_histogram(res)\n",
    "\n",
    "fig.savefig(\"Images/QCQW.pdf\",format= \"pdf\",bbox_inches = \"tight\")"
   ]
  },
  {
   "cell_type": "code",
   "execution_count": 26,
   "metadata": {},
   "outputs": [
    {
     "data": {
      "image/png": "[encoded data removed]",
      "text/plain": [
       "<Figure size 640x480 with 1 Axes>"
      ]
     },
     "execution_count": 26,
     "metadata": {},
     "output_type": "execute_result"
    }
   ],
   "source": [
    "plot_histogram(res)"
   ]
  },
  {
   "cell_type": "code",
   "execution_count": null,
   "metadata": {},
   "outputs": [],
   "source": []
  },
  {
   "cell_type": "code",
   "execution_count": 25,
   "metadata": {},
   "outputs": [
    {
     "name": "stdout",
     "output_type": "stream",
     "text": [
      "Figure(640x480)\n"
     ]
    }
   ],
   "source": [
    "\n",
    "fig = plot_histogram(res)\n",
    "print(fig)\n",
    "fig.savefig(\"Images/QCQW.pdf\",format= \"pdf\",bbox_inches = \"tight\")"
   ]
  },
  {
   "cell_type": "code",
   "execution_count": null,
   "metadata": {},
   "outputs": [],
   "source": []
  },
  {
   "cell_type": "code",
   "execution_count": null,
   "metadata": {},
   "outputs": [],
   "source": []
  }
 ],
 "metadata": {
  "kernelspec": {
   "display_name": "d2l",
   "language": "python",
   "name": "python3"
  },
  "language_info": {
   "codemirror_mode": {
    "name": "ipython",
    "version": 3
   },
   "file_extension": ".py",
   "mimetype": "text/x-python",
   "name": "python",
   "nbconvert_exporter": "python",
   "pygments_lexer": "ipython3",
   "version": "3.9.20"
  }
 },
 "nbformat": 4,
 "nbformat_minor": 4
}
